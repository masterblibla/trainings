{
 "cells": [
  {
   "cell_type": "markdown",
   "metadata": {},
   "source": [
    "# Functions, Classes & PIP\n",
    "This notebook explains what functions and classes are and how to create and use them in Python.<br>\n",
    "Additionally, it is explained how to download, install and update new python libraries of third party developers."
   ]
  },
  {
   "cell_type": "markdown",
   "metadata": {},
   "source": [
    "## Functions\n",
    "Well structured  and readable code is one of the most important requirements for coding when working on a project with multiple people or developing a software that others have to use and maintain. A lot of times certain code sections are required at multiple points of a program. Writing redundant code sections is in-efficient and leads to problems when updating, since it is likely that one or more occurances may be overlooked.\n",
    "\n",
    "To prevent this kind of problem from occuring `functions` are used when writing code sections that need to be called on multiple occasions. Another reason `functions` are used is that they work as a separator for functionalities of the code.<br> This explanation seems obvious, but it is important when thinking about the naming of `functions`.\n",
    "\n",
    "Just like `variables`, `functions` have names that should describe their purpose. More information on this can be found in the notebook **\"Code Formatting\"**.<br>\n",
    "Functions are defined by using a certain Syntax which is shown in the cell below.\n",
    "- Starting with `def` to **define** a function\n",
    "- The `name` of the function that will be used to **call** the function on demand\n",
    "- The `arguments` are passed to the function from the code where called"
   ]
  },
  {
   "cell_type": "code",
   "execution_count": null,
   "metadata": {},
   "outputs": [],
   "source": [
    "#Example Function with no purpose\n",
    "def showExample (arg0, arg1):\n",
    "    #Using pass to make the function run, otherwise an error would occur since some code is expected after definition\n",
    "    pass"
   ]
  },
  {
   "cell_type": "markdown",
   "metadata": {},
   "source": [
    "The above example is a function without a purpose. But is nonetheless an example of its basic structure.\n",
    "\n",
    "The `name` of the function in this case is `showExample`. It consists of a verb and a noun, that explain its use. It is written in so-called camelCase. More on that in the notebook **\"Code Formatting\"**.\n",
    "\n",
    "The two `arguments` *arg0* and *arg1* can be of any datatype.<br>\n",
    "`Arguments` are usually values that are required for the function's operations as input or target values.<br>\n",
    "If an argument should always have the same *default value* unless specified otherwise, it can be assigned one on definition.\n",
    "\n",
    "In the following examples, the arguments can be any integer or float number.\n",
    "\n",
    "Additionally the `return` command is added to the end of the `function`. This command returns the value specified, once the `function` reaches this point. It is not required for a `function` to work. It is possible to return multiple values from a `function` if necessary. This can be achieved by separating them using commas. The same way multiple variable can be declared in a single line."
   ]
  },
  {
   "cell_type": "code",
   "execution_count": null,
   "metadata": {},
   "outputs": [],
   "source": [
    "#Example for input parameters\n",
    "def inputValues(num1, num2, scaling = 1.0):\n",
    "    #This function adds the two first arguments together and \n",
    "    #scales the result based on the scaling factor with a default value of 1.0\n",
    "    res = (num1+num2)*scaling\n",
    "    #the return command returns the result of the operation\n",
    "    return res\n",
    "\n",
    "#Calling a function\n",
    "\n",
    "#Without argument name and no change for scaling\n",
    "result1 = inputValues(4,6)\n",
    "print('Result 1:', result1)\n",
    "\n",
    "#With argument name and no change for scaling\n",
    "result2 = inputValues(num1 = 5, num2 = 39)\n",
    "print('Result 2:', result2)\n",
    "\n",
    "#Without argument name and change for scaling\n",
    "result3 = inputValues(4,6,1.5)\n",
    "print('Result 3:', result3)\n",
    "\n",
    "#With argument name and change for scaling\n",
    "result4 = inputValues(num1 = 15, num2 = 23, scaling = 0.6)\n",
    "print('Result 4:', result4)\n",
    "\n",
    "#When using the argument names, the order in which the arguments \n",
    "#are assigned can be changed freely, but for that ALL names have to be used\n",
    "result5 = inputValues(scaling = 0.6, num2 = 23, num1 = 15)\n",
    "print('Result 5:', result5)"
   ]
  },
  {
   "cell_type": "markdown",
   "metadata": {},
   "source": [
    "### Built-in Namespaces\n",
    "As is explained in the notebook **\"Code Formatting\"** in more detail, there are certain best practices for naming variables, functions and classes.<br>\n",
    "A very important restriction for naming is the use of certain words, that Python reserved in so-called **namespaces**. These words fulfill certain functions within Python and cannot as well as should not be used as names for variables, functions and classes. We already used some of them in a previous notebook: `and`,`or`,`if`,`for` etc.<br>\n",
    "Below, some more examples:\n",
    "- `continue`\n",
    "- `break`\n",
    "- `while`\n",
    "- `not`\n",
    "- `range`\n",
    "- `def`\n",
    "- `class`\n",
    "- `in`\n",
    "\n",
    "And many more. Some of which will be discussed in this course."
   ]
  },
  {
   "cell_type": "markdown",
   "metadata": {},
   "source": [
    "## Classes\n",
    "Classes provide a means of bundling data and functionality together. Creating a new class creates a new `type` of object, allowing new `instances` of that type to be made. Each class instance can have attributes attached to it for maintaining its state. Class instances can also have methods (defined by its class) for modifying its state. [Python Software Foundation](https://docs.python.org/3.7/tutorial/classes.html)\n"
   ]
  },
  {
   "cell_type": "markdown",
   "metadata": {},
   "source": [
    "The Syntax used to create classes in Python is not very complex. After declaring a class name, the initialisation method also called constructor `__init__` is defined, which is called when an object of a class is instantiated (created).<br>\n",
    "The double underscore surrounding the `init` method means that it is a private method, that cannot be accessed directly from outside of the class. More detailed information on this can be found in the following link. [Private/Public](https://www.geeksforgeeks.org/private-methods-in-python/).\n",
    "\n",
    "A `method` is basically the same as a function, but different to a function, it can only be accessed by objects of the class it is defined in.\n",
    "\n",
    "The Syntax for defining `methods` is the same as for defining `functions` except for it having an additional `argument` called `self` which identifies it as a method of the class it is defined in.\n",
    "\n",
    "`Attributes` are class-specific variables that describe characteristics of the object."
   ]
  },
  {
   "cell_type": "code",
   "execution_count": null,
   "metadata": {},
   "outputs": [],
   "source": [
    "#creating an example of the most basic class structure\n",
    "class Test:\n",
    "    #defining the initialisation method, pay attention to the first argument \"self\"\n",
    "    def __init__ (self, arg0, arg1, default_arg = 'test'):\n",
    "        #Attributes can be named just like variables. But it is important, that they have the precursor \"self.\"\n",
    "        self.Attribute0 = arg0\n",
    "        self.Attribute1 = arg1\n",
    "        self.My_Attribute2 = default_arg\n",
    "\n",
    "#Creating an instance of the class\n",
    "#When Creating an instance of a class the \"self\" argument MUST NOT be provided. It is an internal argument of the class.\n",
    "#Instances of classes should start with a capital lettre\n",
    "MyTest = Test('arg0','arg1')\n",
    "#Reading the attribute\n",
    "print('Attribute0:',MyTest.Attribute0)\n",
    "#Changing an attribute directly\n",
    "MyTest.Attribute0 = 'new Attribute'\n",
    "print('Attribute0:',MyTest.Attribute0)\n"
   ]
  },
  {
   "cell_type": "markdown",
   "metadata": {},
   "source": [
    "The previous cell showed how to create the most basic form of a class. But classes can be a lot more complex than shown in that example.<br>\n",
    "First of all, they can inherit abilities from so-called *parents classes* [[Inheritance]](https://www.w3schools.com/python/python_inheritance.asp). Which can be defined in the same line the class is given a name.<br>\n",
    "Additionally, the `attributes` of classes can be used to do calculations and show characteristics of the instances.<br>\n",
    "In the following example, the class called **Student** is created with the four basic `attributes`:\n",
    "- Name\n",
    "- Birthday\n",
    "- Favourite_Food\n",
    "- Sleep_Per_Day\n",
    "\n",
    "Afterwards, a method is defined that enables the user to get the sleep required by that student for a varying number of days."
   ]
  },
  {
   "cell_type": "code",
   "execution_count": null,
   "metadata": {},
   "outputs": [],
   "source": [
    "#The placeholder \"object\" is, where the name of the parent class can be given. The parent classes functionalities \n",
    "#can be access through calling the __init__method of it. More detailed explanation in the link above\n",
    "class Student(object):\n",
    "    def __init__ (self, name, birthday, favourite_food, sleep_per_day = 8):\n",
    "        self.Name = name\n",
    "        self.Birthday = birthday\n",
    "        self.Favourite_Food = favourite_food\n",
    "        self.Sleep_Per_Day = sleep_per_day\n",
    "        \n",
    "    #Definig a method to get required sleep time\n",
    "    def getSleepForXDays(self, num_of_days):\n",
    "        return num_of_days*self.Sleep_Per_Day"
   ]
  },
  {
   "cell_type": "markdown",
   "metadata": {},
   "source": [
    "Now some instances of the Student class will be created.\n",
    "\n",
    "As the `argument` *sleep_for_days* has a default value, it does not have to be specified, if the default matches the actual value."
   ]
  },
  {
   "cell_type": "code",
   "execution_count": null,
   "metadata": {},
   "outputs": [],
   "source": [
    "Max = Student('Max', '12.12.2000', 'Bread', 6.5)\n",
    "Sarah = Student('Sarah', '29.02.1996', 'Cake')\n",
    "Tim = Student(name = 'Tim', birthday = '04.04.1999', favourite_food = 'Toast', sleep_per_day = 10)"
   ]
  },
  {
   "cell_type": "markdown",
   "metadata": {},
   "source": [
    "Afterwards the required sleep time for a specific number of days can be aquired by using the method `getSleepForXDays` of the Student class."
   ]
  },
  {
   "cell_type": "code",
   "execution_count": null,
   "metadata": {},
   "outputs": [],
   "source": [
    "print(Max.Name, Max.getSleepForXDays(8), 'h')\n",
    "print(Sarah.Name, Sarah.getSleepForXDays(8), 'h')\n",
    "print(Tim.Name, Tim.getSleepForXDays(8), 'h')"
   ]
  },
  {
   "cell_type": "markdown",
   "metadata": {},
   "source": [
    "## Help Functionalities\n",
    "When using other developer's functions or classes, it is not always clear, what arguments are available and what their meaning is. \n",
    "\n",
    "To help with this, IPython provides the **help** function. It can be used in different ways, but the easiest one is to put a **Question Mark** behind the name of a function or class. This will display the docstring of that function or class in a separate window.\n",
    "\n",
    "To open the docstring inside the cell's console use `help(YOUR_FUNCTION_NAME)`. Docstrings can also be written for your own code sections. For this course there is a format that you are asked to use. It can be found in the notebook **\"Code Formatting\"**.\n",
    "\n",
    "Not all functions and classes have a docstring. If there is none available, you will need to go directly into the library itself to search for information or research online."
   ]
  },
  {
   "cell_type": "code",
   "execution_count": null,
   "metadata": {},
   "outputs": [],
   "source": [
    "import numpy as np\n",
    "np.sum?"
   ]
  },
  {
   "cell_type": "code",
   "execution_count": null,
   "metadata": {},
   "outputs": [],
   "source": [
    "import numpy as np\n",
    "help(np.sum)\n"
   ]
  },
  {
   "cell_type": "markdown",
   "metadata": {},
   "source": [
    "---\n",
    "## Tasks\n",
    "The solutions are available below the explanation for PIP.\n",
    "\n",
    "### Arithmetic Operation Functions\n",
    "Create functions that allow you to do the four basic arithmetic operations (+-\\*/) with two numbers and return the result to a variable."
   ]
  },
  {
   "cell_type": "code",
   "execution_count": null,
   "metadata": {},
   "outputs": [],
   "source": [
    "#arithmetic functions\n"
   ]
  },
  {
   "cell_type": "markdown",
   "metadata": {},
   "source": [
    "### Calculation Algorithm\n",
    "Create a variable that starts with an integer or float value of your choosing.<br>\n",
    "Write an algorithm that executes the four functions depending on the current value of the variable created. The algorithms should loop. The number of loops should also be variable."
   ]
  },
  {
   "cell_type": "code",
   "execution_count": null,
   "metadata": {},
   "outputs": [],
   "source": [
    "#create variable\n",
    "\n",
    "#create algorithm\n"
   ]
  },
  {
   "cell_type": "markdown",
   "metadata": {},
   "source": [
    "### Material Class\n",
    "Create a Class called 'Material' that contains basic information about a production material required by an Enterprise-Ressource-Planning system(ERP). Minimum of 5 attributes.<br>\n",
    "A class description following the provided template in the **\"Code Formatting\"** notebook is required."
   ]
  },
  {
   "cell_type": "code",
   "execution_count": null,
   "metadata": {},
   "outputs": [],
   "source": [
    "#create class"
   ]
  },
  {
   "cell_type": "markdown",
   "metadata": {},
   "source": [
    "As a mental exercise, think about a game of chess. Each figure has certain attributes. So if there was a class called **Figure** that provides all the attributes any chess figure needs to describe their characteristics, what attributes would it have? You do not need to create the class, there is also no solution given below."
   ]
  },
  {
   "cell_type": "markdown",
   "metadata": {},
   "source": [
    "---\n",
    "## PIP\n",
    "Python is an open-source language that allows programmers to write and publicise their own libraries to enhance the functionalities of Python. One of these libraries was already talked about in a previous course. The `numpy` library.<br>\n",
    "It is one of the fastest and most wide-spread libraries for mathematics. Many libraries that deal with matrix operations use it as their basis. It is also already part of Python's default installation package. But it is still continuously updated by the developers and therefore also needs to be updated on our machines. This is where `pip` comes into play<br>\n",
    "It is a library that handles downloading, installing, uninstalling, updating and many more tasks related to Python libraries. To use it, open the `anaconda prompt`. The first thing that needs to be done is upgrading pip to the current version. Input and execute the following command:\n",
    "\n",
    "`pip install --upgrade pip`\n",
    "\n",
    "This command will upgrade `pip`. Next, we can also upgrade `numpy` so it is certain that the current version is installed.\n",
    "\n",
    "`pip install --upgrade numpy`\n",
    "\n",
    "To install a new library all that has to be done in most cases is to leave out the `--upgrade` portion of the command and substitue the library name in the end by the library you want to install.\n",
    "\n",
    "`pip install YOUR_LIBRARY_NAME_HERE`\n",
    "\n",
    "If the currently logged in user does not have admin rights, they may be unable to install new libraries. If that is the case, add the `--user` command. As an example, the `PIL` library can be installed.\n",
    "\n",
    "`pip install PIL --user`\n",
    "\n",
    "\n"
   ]
  },
  {
   "cell_type": "markdown",
   "metadata": {},
   "source": [
    "---\n",
    "## Solutions\n",
    "\n",
    "### Arithmetic Operation Functions"
   ]
  },
  {
   "cell_type": "code",
   "execution_count": null,
   "metadata": {},
   "outputs": [],
   "source": [
    "#arithmetic functions\n",
    "def addNums(x,y):\n",
    "    return x+y\n",
    "\n",
    "def subNums(x,y):\n",
    "    return x-y\n",
    "\n",
    "def divNums(x,y):\n",
    "    return x/y\n",
    "\n",
    "def mulNums(x,y):\n",
    "    return x*y"
   ]
  },
  {
   "cell_type": "markdown",
   "metadata": {},
   "source": [
    "### Calculation Algorithm"
   ]
  },
  {
   "cell_type": "code",
   "execution_count": null,
   "metadata": {},
   "outputs": [],
   "source": [
    "#create variable\n",
    "i = 10\n",
    "#create algorithm\n",
    "for counter in range(20):\n",
    "    if i >= 0 and i <= 10:\n",
    "        i = addNums(i,15)\n",
    "    elif i > 10 and i <= 20:\n",
    "        i = mulNums(i,4)\n",
    "    elif i > 20 and i <= 30:\n",
    "        i = subNums(i, 12)\n",
    "    elif i > 30:\n",
    "        i = divNums(i, 9)\n",
    "    else:\n",
    "        i = addNums(i, 100)\n",
    "    print('Iteration', counter, ': i =', i)"
   ]
  },
  {
   "cell_type": "markdown",
   "metadata": {},
   "source": [
    "### Material Class"
   ]
  },
  {
   "cell_type": "code",
   "execution_count": null,
   "metadata": {},
   "outputs": [],
   "source": [
    "#create class\n",
    "class Material:\n",
    "    '''This class creates a production material with five relevant information.\\n\n",
    "    -------ARGUMENTS-------\n",
    "    mat_id(str) -> material id\n",
    "    mat_name(str) -> material name\n",
    "    unit(str) -> unti the material is measured in\n",
    "    minimum(str) -> minimum amount that has to be present in the storage\n",
    "    maximum(str) -> maximum amount for storage\\n\n",
    "    -------ATTRIBUTES-------\n",
    "    Mat_Id(str) -> material id\n",
    "    Mat_Name(str) -> material name\n",
    "    Unit(str) -> unti the material is measured in\n",
    "    Minimum(str) -> minimum amount that has to be present in the storage\n",
    "    Maximum(str) -> maximum amount for storage'''\n",
    "    def __init__ (self, mat_id, mat_name, unit, minimum, maximum):\n",
    "        self.Material_Id = mat_id\n",
    "        self.Material_Name = mat_name\n",
    "        self.Unit = unit\n",
    "        self.Minimum = minimum\n",
    "        self.Maximum = maximum\n",
    "        "
   ]
  }
 ],
 "metadata": {
  "kernelspec": {
   "display_name": "Python 3",
   "language": "python",
   "name": "python3"
  },
  "language_info": {
   "codemirror_mode": {
    "name": "ipython",
    "version": 3
   },
   "file_extension": ".py",
   "mimetype": "text/x-python",
   "name": "python",
   "nbconvert_exporter": "python",
   "pygments_lexer": "ipython3",
   "version": "3.8.5"
  },
  "varInspector": {
   "cols": {
    "lenName": "16",
    "lenType": 16,
    "lenVar": 40
   },
   "kernels_config": {
    "python": {
     "delete_cmd_postfix": "",
     "delete_cmd_prefix": "del ",
     "library": "var_list.py",
     "varRefreshCmd": "print(var_dic_list())"
    },
    "r": {
     "delete_cmd_postfix": ") ",
     "delete_cmd_prefix": "rm(",
     "library": "var_list.r",
     "varRefreshCmd": "cat(var_dic_list()) "
    }
   },
   "types_to_exclude": [
    "module",
    "function",
    "builtin_function_or_method",
    "instance",
    "_Feature"
   ],
   "window_display": false
  }
 },
 "nbformat": 4,
 "nbformat_minor": 2
}
