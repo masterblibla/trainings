{
 "cells": [
  {
   "cell_type": "markdown",
   "metadata": {},
   "source": [
    "# Python Basics\n",
    "Python syntax is a lot less complicated compared to most other programming languages. The developers created it as an easy-to-learn language. <br>\n",
    "This will show when discussing \"if statements\" and variables for the first time.<br><br>\n",
    "So, let's dive in :)"
   ]
  },
  {
   "cell_type": "markdown",
   "metadata": {},
   "source": [
    "# Datatypes\n",
    "Datatypes are attributes of data that tell the compiler or interpreter how the developer intends to use the data [[Wikipedia]](https://en.wikipedia.org/wiki/Data_type). Every variable used in code is of a certain datatype. Most languages assign a datatype to a variable during initialisation. In Python this is done automatically. Also the datatype of a variable can change multiple times during its lifecycle.\n",
    "\n",
    "This is achieved due to Python not assigning a datatype, but rather every variable being a PyObject that includes all datatypes and then automatically selecting the right datatype for you. If you want to read more on this, go to [here](https://realpython.com/pointers-in-python/#why-doesnt-python-have-pointers), it is not necessary to understand this topic in detail for this course.\n",
    "\n",
    "First, variables are assigned a value by using a single equal sign `=`."
   ]
  },
  {
   "cell_type": "code",
   "execution_count": 3,
   "metadata": {},
   "outputs": [],
   "source": [
    "a = 5346457347"
   ]
  },
  {
   "cell_type": "markdown",
   "metadata": {},
   "source": [
    "Some commonly used datatypes are:\n",
    "\n",
    "### Integer\n",
    "Whole numbers, like the space *N* in mathematics."
   ]
  },
  {
   "cell_type": "code",
   "execution_count": 4,
   "metadata": {},
   "outputs": [],
   "source": [
    "a = 1"
   ]
  },
  {
   "cell_type": "markdown",
   "metadata": {},
   "source": [
    "\n",
    "### Float\n",
    "Decimal numbers. It is important to remember, that the decimal symbol is a **point** not a **comma**."
   ]
  },
  {
   "cell_type": "code",
   "execution_count": 7,
   "metadata": {},
   "outputs": [],
   "source": [
    "b = 4/4"
   ]
  },
  {
   "cell_type": "markdown",
   "metadata": {},
   "source": [
    "### String\n",
    "Character sequences. Strings are text. When assigning a string to a variable, it has to be surrounded by either apostrophes `'my string'` or quotation marks `\"also my string\"`.\n",
    "\n",
    "Each letter of the text, or a sequence of it can be accessed directly, using slicing. Each character in a string has a position, also called index, starting at zero. By using slicing the characters can be accessed using their index.\n",
    "\n",
    "The following example will show how to get the following from a string:\n",
    "- its length (number of characters) by using the `len()` function\n",
    "- a single letter by using slicing --> `my_variable[index]`\n",
    "- a sequence of letters --> `my_variable[start:stop]`"
   ]
  },
  {
   "cell_type": "code",
   "execution_count": 1,
   "metadata": {},
   "outputs": [
    {
     "name": "stdout",
     "output_type": "stream",
     "text": [
      "Length c =  11\n",
      "Character at index 0 = H\n",
      "Character at index 8 = r\n",
      "Characters from interval[0:7] = Hello W\n",
      "Characters from interval[4:9] = o Wor\n",
      "Every character from the 5th character onwards =  World\n",
      "Every character until the 9th character = Hello Wor\n",
      "Last three characters = rld\n"
     ]
    }
   ],
   "source": [
    "#assigning a string to a variable\n",
    "c = 'Hello World'\n",
    "\n",
    "#getting the length of a string\n",
    "print('Length c = ', len(c))\n",
    "#Length starts at 1, so a string with length = 11 has a maximum index of 10.\n",
    "\n",
    "#getting single characters of a string\n",
    "print('Character at index 0 =', c[0])\n",
    "print('Character at index 8 =', c[8])\n",
    "\n",
    "#getting a sequence of characters of a string\n",
    "print('Characters from interval[0:7] =', c[0:7])\n",
    "print('Characters from interval[4:9] =', c[4:9])\n",
    "print('Every character from the 5th character onwards =', c[5:])\n",
    "print('Every character until the 9th character =', c[:9])\n",
    "print('Last three characters =', c[-3:])\n"
   ]
  },
  {
   "cell_type": "markdown",
   "metadata": {},
   "source": [
    "Take note, that when slicing and taking an interval, that the upper bound is excluded from the interval. This means the term `c[3:8]` returns the characters from index = 3 until index = 7. The character at index = 8 is not included. This needs some getting used to, but is not hard to understand once you use it more frequently.\n",
    "\n",
    "Slicing also works the same way on many other datatypes, which we will discuss at a later point. It will be pointed out if slicing can be applied. \n",
    "\n",
    "### Boolean\n",
    "Boolean are logical values that can be either `True` or `False`. We will go into more detail when discussing *operators* and *if statements*.\n",
    "\n",
    "A boolean can also be expressed as integer values. If so, `True == 1` and `False == 0`.\n",
    "The double equal sign can be interpreted as **is equal to**."
   ]
  },
  {
   "cell_type": "code",
   "execution_count": null,
   "metadata": {},
   "outputs": [],
   "source": [
    "e = True\n",
    "f = False"
   ]
  },
  {
   "cell_type": "markdown",
   "metadata": {},
   "source": [
    "### List\n",
    "Lists contain sequences of values. These values can be of any datatype, which may also be mixed within a single list. Which means a single list can contain items of multiple datatypes.\n",
    "\n",
    "Additionally lists can also be multi-dimensional. Let's make an example:\n",
    "- A *one-dimensional* list could be used to save a list of names\n",
    "- A *two-dimensional* list could add information, such as adress, phone number, birthday etc.\n",
    "- A *n-dimensional* list could contain any kind of information, but from three dimensions upwards, it is really hard to visualize.\n",
    "\n",
    "Lists in Python are surrounded by square brackets `[]` and the items are separated by commas.\n",
    "\n",
    "**Slicing** is possible with lists. It is done exactly the same way is for strings, but the return will be items, not characters. It also works in multiple dimensions using multiple `[][]` for each dimension.\n",
    "\n",
    "For a more extensive documentation go [here](https://railsware.com/blog/python-for-machine-learning-indexing-and-slicing-for-lists-tuples-strings-and-other-sequential-types/)."
   ]
  },
  {
   "cell_type": "code",
   "execution_count": null,
   "metadata": {},
   "outputs": [],
   "source": [
    "#1-D List\n",
    "g = [1,2.456,'three']\n",
    "#2-D list\n",
    "h = [[1,2,3],\n",
    "    [4,5,6]]\n",
    "#3-D list...etc\n",
    "i =[[[1,2,3],[4,5,6]],\n",
    "   [[7,8,9],[10,11,12]]]\n",
    "\n",
    "print('Slicing first dimension at index = 1 and second dimension at index = 2 for h = ',\n",
    "      h[1][2])\n",
    "print('Slicing first dimension at index 0 for h = ',\n",
    "      h[0])"
   ]
  },
  {
   "cell_type": "markdown",
   "metadata": {},
   "source": [
    "Lists, like all other variables can be updated. Items can be added, changed or deleted. These functions of lists will be discussed at a later point.\n",
    "\n",
    "### Tuple\n",
    "Tuples, like lists, can be used to save different datatypes in one variable. The difference is, that tuples are fixed in size once created. The values may be changed, but no new items can be added or deleted without a work-around.\n",
    "\n",
    "**Slicing** works on tuples as well."
   ]
  },
  {
   "cell_type": "code",
   "execution_count": null,
   "metadata": {},
   "outputs": [],
   "source": [
    "j = (1,'test', True)"
   ]
  },
  {
   "cell_type": "markdown",
   "metadata": {},
   "source": [
    "### Dictionary\n",
    "They also work a lot like lists in that multiple datatypes can be part of a dictionary and they can be multi-dimensional. The key difference is, that when searching for items in a dictionary, not the index, but the **KEY** is used.\n",
    "\n",
    "Dictionaries sort their items in the form of a **Key:Value-Pair**. Meaning that when accessing the items instead of\n",
    "\n",
    "`my_dictionary[3]` with 3 being the index\n",
    "\n",
    "you would use\n",
    "\n",
    "`my_dictionary['KEYWORD']` where the *KEYWORD* can be any sequence of characters that exists as a key in your dictionary.\n",
    "\n",
    "Again, the **Value** part can be of any kind of datatype you want.\n",
    "\n",
    "An example is shown below and again, **Slicing** also works on dictionaries."
   ]
  },
  {
   "cell_type": "code",
   "execution_count": null,
   "metadata": {},
   "outputs": [],
   "source": [
    "k = {'Key 1': 12, 'Another Key':True, 'This as well':[1,2,3]}\n",
    "print('Accessing items using keyword \"Key 1\" =', k['Key 1'])\n",
    "print('Accessing items using keyword \"This as well\" =', k['This as well'])"
   ]
  },
  {
   "cell_type": "markdown",
   "metadata": {},
   "source": [
    "Changing the datatype of existing variables"
   ]
  },
  {
   "cell_type": "code",
   "execution_count": null,
   "metadata": {},
   "outputs": [],
   "source": [
    "#To string\n",
    "a = str(a)\n",
    "#to integer\n",
    "#c = int(c) # Does not work, since 'Hello World' is not a number\n",
    "c = int('1234')\n",
    "b = int(b)\n",
    "#List to tuple\n",
    "g = tuple(g)\n",
    "#Tuple to list\n",
    "g = list(j)\n",
    "\n",
    "\n",
    "#String to list\n",
    "#Strings can be split at a separator of the programmer's choosing\n",
    "#the \"split\" command takes care of this\n",
    "test = 'I am a toast'\n",
    "\n",
    "#Splitting at each \"Space\" to create a list\n",
    "test_list = test.split(' ')\n",
    "#printing out the result in the console\n",
    "print('Split at \"space\"', test_list)\n",
    "\n",
    "#Splitting at each 'a'\n",
    "test_list = test.split('a')\n",
    "print('Split at \"a\"',test_list)"
   ]
  },
  {
   "cell_type": "markdown",
   "metadata": {},
   "source": [
    "## Operators\n",
    "Operators can be separated into three categories, which will be individually described<br>\n",
    "- Comparison Operators\n",
    "- Arithmetic Operators\n",
    "- Logical Operators\n"
   ]
  },
  {
   "cell_type": "markdown",
   "metadata": {},
   "source": [
    "### Comparison Operators\n",
    "They are used to determine whether a statement is `True` or `False`. The result is always a boolean.<br>\n",
    "It is one of the main components for decision making in algorithms. \n",
    "\n",
    "These operators should all be known from math classes in school. "
   ]
  },
  {
   "cell_type": "code",
   "execution_count": 9,
   "metadata": {},
   "outputs": [
    {
     "name": "stdout",
     "output_type": "stream",
     "text": [
      "4 == 2 -> False\n",
      "4 < 2 -> False\n",
      "4 > 2 -> True\n",
      "4 <= 2 -> False\n",
      "4 >= 2 -> True\n",
      "4 != 2 -> True\n"
     ]
    }
   ],
   "source": [
    "#Declaring multiple variables in one line can be done by separating them with commas.\n",
    "x,y = 4,2\n",
    "#is equal to\n",
    "print('%d == %d ->'%(x,y), x == y)\n",
    "#smaller than\n",
    "print('%d < %d ->'%(x,y), x < y)\n",
    "#larger than\n",
    "print('%d > %d ->'%(x,y), x > y)\n",
    "#smaller or equal to\n",
    "print('%d <= %d ->'%(x,y), x <= y)\n",
    "#larger or equal to\n",
    "print('%d >= %d ->'%(x,y), x >= y)\n",
    "#not equal to\n",
    "print('%d != %d ->'%(x,y), x != y)"
   ]
  },
  {
   "cell_type": "markdown",
   "metadata": {},
   "source": [
    "The **%** character can be used as a placeholder for strings to add either digits (%d) or strings (%s) within the brackets directly after the string. The placesholder will be substituted  by the variable values of, in this case x and y.\n",
    "\n",
    "Single parts:\n",
    "\n",
    "`'%d >= %d ->'` --> Placeholders within the string<br>\n",
    "`%(x,y)`        --> Values for placeholders in order ( x -> first placeholder, y -> second placeholder, etc.)\n",
    "\n",
    "As will be shown in the following *Arithmetic Operators* the `%` character has another arithmetic function besides the *placeholder* in strings, as the **modulus**"
   ]
  },
  {
   "cell_type": "markdown",
   "metadata": {},
   "source": [
    "### Arithmetic Operators\n",
    "Arithmetic operators are used for calculations. They are the basic tools known from mathematics."
   ]
  },
  {
   "cell_type": "code",
   "execution_count": null,
   "metadata": {},
   "outputs": [],
   "source": [
    "x,y = 1,2\n",
    "#Addition\n",
    "print('%d + %d ->'%(x,y), x + y)\n",
    "#Substraction\n",
    "print('%d - %d ->'%(x,y), x - y)\n",
    "#Multiplication\n",
    "print('%d * %d ->'%(x,y), x * y)\n",
    "#Division\n",
    "print('%d / %d ->'%(x,y), x / y)\n",
    "#Exponent\n",
    "print('%d ** %d ->'%(x,y), x ** y)\n",
    "#Modulus\n",
    "#The modulus operator return the rest of a division\n",
    "print(x, '%', y, '->', x % y)"
   ]
  },
  {
   "cell_type": "markdown",
   "metadata": {},
   "source": [
    "### Logical Operators\n",
    "Logical Operators are used to combine multiple comparisons.\n",
    "Three of the most common logical operators are `and`, `or` and `not`\n",
    "\n",
    "- `and` -> **all** statements have to be `True`\n",
    "- `or`  -> **at least** one of the statements has to be `True`\n",
    "- `not` -> statement has to be `False`\n",
    "\n",
    "The examples for Logical Operators will be shown when discussing if-statements, since it is where they are applied a lot."
   ]
  },
  {
   "cell_type": "markdown",
   "metadata": {},
   "source": [
    "---\n",
    "## Tasks\n",
    "The following cells contain tasks to test your knowledge on the examples explained above.<br>\n",
    "Examplary solutions are posted in the cells below. Try to work them out yourself first and check your results afterwards."
   ]
  },
  {
   "cell_type": "markdown",
   "metadata": {},
   "source": [
    "### Arithmetic Operators"
   ]
  },
  {
   "cell_type": "code",
   "execution_count": 10,
   "metadata": {},
   "outputs": [],
   "source": [
    "# Research the following operators and their use:\n",
    "# +=\n",
    "# -=\n",
    "# *=\n",
    "# /="
   ]
  },
  {
   "cell_type": "markdown",
   "metadata": {},
   "source": [
    "### Dictionary"
   ]
  },
  {
   "cell_type": "code",
   "execution_count": null,
   "metadata": {},
   "outputs": [],
   "source": [
    "#TODO --> Create a multi-dimensional dictionary that contains the following information of 3 people:\n",
    "# first name\n",
    "# last name\n",
    "# birthday\n",
    "# favourite food\n",
    "# country of origin\n",
    "\n",
    "#TODO --> Access one individuals complete item and additionally only their country of origin"
   ]
  },
  {
   "cell_type": "markdown",
   "metadata": {},
   "source": [
    "---\n",
    "## Solutions\n",
    "\n",
    "### Arithmetic Operators\n",
    "The operators used in the task can be used to add a value to the current value of a variable. <br>\n",
    "Therefore, the two following commands have the same functionalities.\n",
    "\n",
    "`num = num + 1`\n",
    "\n",
    "`num += 1`\n",
    "\n",
    "Only the second version is faster to write and more commonly used in programming."
   ]
  },
  {
   "cell_type": "code",
   "execution_count": 11,
   "metadata": {},
   "outputs": [
    {
     "name": "stdout",
     "output_type": "stream",
     "text": [
      "1 += 10 -> 11\n",
      "1 -= 5 -> -4\n",
      "1 *= 8 -> 8\n",
      "1 /= 5 -> 0.2\n",
      "\n",
      "num += 10 -> 11\n"
     ]
    }
   ],
   "source": [
    "#creating a variable\n",
    "num = 1\n",
    "print( num, '+= 10 ->', num + 10)\n",
    "print( num, '-= 5 ->', num - 5)\n",
    "print( num, '*= 8 ->', num * 8)\n",
    "print( num, '/= 5 ->', num / 5)\n",
    "\n",
    "#Example\n",
    "num += 10\n",
    "print('\\nnum += 10 ->', num)"
   ]
  },
  {
   "cell_type": "markdown",
   "metadata": {},
   "source": [
    "### Dictionary"
   ]
  },
  {
   "cell_type": "code",
   "execution_count": 12,
   "metadata": {},
   "outputs": [
    {
     "name": "stdout",
     "output_type": "stream",
     "text": [
      "{'first_name': 'Tim', 'last_name': 'Trueman', 'birthday': '04.07.1975', 'fav_food': 'Cheese', 'origin': 'France'}\n",
      "France\n"
     ]
    }
   ],
   "source": [
    "my_dict = {'Max':{'first_name':'Max','last_name':'Mustermann','birthday':'12.12.2000','fav_food':'Salami','origin':'England'},\n",
    "          'Helen':{'first_name':'Helen','last_name':'Musterfrau','birthday':'02.10.1990','fav_food':'Bread','origin':'Spain'},\n",
    "          'Tim':{'first_name':'Tim','last_name':'Trueman','birthday':'04.07.1975','fav_food':'Cheese','origin':'France'}}\n",
    "\n",
    "print(my_dict['Tim'])\n",
    "print(my_dict['Tim']['origin'])"
   ]
  },
  {
   "cell_type": "markdown",
   "metadata": {},
   "source": [
    "---\n",
    "## If Statements\n",
    "`If` statements are used to navigate through tasks or start procedures based on whether or not one or multiple conditions are `True` or `False`.<br>\n",
    "Their basic syntax is:\n",
    "\n",
    "**if** *statement* :&nbsp;&nbsp;&nbsp;&nbsp;--> if `True`, only the following task is executed... else, skip to next condition<br>\n",
    "&nbsp;&nbsp;&nbsp;&nbsp;Do something and ignore rest<br>\n",
    "**elif** *statement*:&nbsp;&nbsp;&nbsp;&nbsp;--> `elif` means `else if`, in case the first condition is `False`. Same rules as for `if` apply<br>\n",
    "&nbsp;&nbsp;&nbsp;&nbsp;Do something else and ignore rest<br>\n",
    "**else**:<br>\n",
    "&nbsp;&nbsp;&nbsp;&nbsp;Do a default thing\n",
    "    \n",
    "Multiple conditions can be chained together by using logical operators or nested `if` statements. Also, multiple (technically infinite) `elif` conditions are possible.\n",
    "\n",
    "The minimum syntax for the `if` statement is the `if` component and its resulting operation. `elif` and `else` are not necessarily required, if they have no functionality."
   ]
  },
  {
   "cell_type": "code",
   "execution_count": null,
   "metadata": {},
   "outputs": [],
   "source": [
    "#Creating some variables\n",
    "a,b,c = 1,2,3\n",
    "\n",
    "#If example\n",
    "if a > b:\n",
    "    print('a > b')\n",
    "elif a == b:\n",
    "    print('a == b')\n",
    "else:\n",
    "    print('a < b')\n",
    "    \n",
    "#If example with chained conditions\n",
    "if a < b and b < c:\n",
    "    print('c is the highest')\n",
    "if a > b or c > b:\n",
    "    print('b is not the highest')\n",
    "\n",
    "# The not operator\n",
    "if not a > b:\n",
    "    print('a is smaller or equal to b')\n",
    "    \n",
    "#Nested if Statements\n",
    "if a < b:\n",
    "    if b < c:\n",
    "        print('c is highest')\n",
    "    else:\n",
    "        print('b is equal to c or the highest')\n",
    "else:\n",
    "    print('a is higher than or equal to b')"
   ]
  },
  {
   "cell_type": "markdown",
   "metadata": {},
   "source": [
    "---\n",
    "## For Loops\n",
    "Loops allow code to run continuously. Either for an undeterment  or a fixed number of loops. `for` loops are generally not used for endless loops, but to iterate over the elements of lists, dictionaries or arrays, which will be explained in more detail later.<br>\n",
    "The basic syntax of `for` loops is as follows:<br><br>\n",
    "**for** *element* **in** *iteration object*:<br>\n",
    "&nbsp;&nbsp;&nbsp;&nbsp;Code to run in a loop<br><br>\n",
    "For the examples, different cases of `for` loops will be shown and explained. These include:<br>\n",
    "- fixed number of iterations\n",
    "- element-wise iterations over a list\n",
    "- enumeration, an iteration that additionally returns the current number of iterations"
   ]
  },
  {
   "cell_type": "code",
   "execution_count": 15,
   "metadata": {},
   "outputs": [
    {
     "name": "stdout",
     "output_type": "stream",
     "text": [
      "11\n"
     ]
    }
   ],
   "source": [
    "#first a 1-D list is created, that can be used for all the following exmaples.\n",
    "my_list = [1,3,4,5,8,9,6234,234,6,365,2]\n",
    "print(len(my_list))\n",
    "\n"
   ]
  },
  {
   "cell_type": "markdown",
   "metadata": {},
   "source": [
    "The first example of a `for` loop will run the loop for a fixed number of times. This can be done by using a `range`.<br>\n",
    "A `range` has a *`start`*, *`stop`* and *`step`* value.\n",
    "\n",
    "`range(start, stop, step)`\n",
    "\n",
    "By default the *`start`* value is 0 and the *`step`* is 1. Only the `stop` value has no default.\n",
    "\n",
    "But they can also be changed. Also, since the loop starts at 0 and we specified to do five loops, the loop stops at number 4. This is something that needs some getting used to, but it is the same for lists and arrays. Their indices by default always start from zero. So the last index of a list that has 10 items is 9.\n",
    "\n",
    "The `element` used for the iteration in the following examples has the name *number*. This name can be freely chosen by the developer, as long as it is not the name of an exisiting variable or part of the Python `namespace`."
   ]
  },
  {
   "cell_type": "code",
   "execution_count": null,
   "metadata": {},
   "outputs": [],
   "source": [
    "for number in range(5):\n",
    "    print('First loop', number)\n",
    "    \n",
    "for number in range(-10,3,2):\n",
    "    print('Second loop', number)\n",
    "    \n",
    "#Using the length of a list for the number of iterations\n",
    "for number in range(len(my_list)):\n",
    "    print('Third loop', number)"
   ]
  },
  {
   "cell_type": "markdown",
   "metadata": {},
   "source": [
    "As shown above, it is possible to use the length of a list to specify the number of loops. This way it is possible to iterate over a list element-wise.<br>\n",
    "But it is not the most efficient way. `for` loops can directly do element-wise iterations over lists. The element of each iteration will be an item of that list. Starting at the '0' index and working its way through the list one item per loop."
   ]
  },
  {
   "cell_type": "code",
   "execution_count": null,
   "metadata": {},
   "outputs": [],
   "source": [
    "for index in range(len(my_list)):\n",
    "    print('First loop: Value: %s at index %s'%(my_list[index],index))\n",
    "    \n",
    "for element in my_list:\n",
    "    print('Second loop: Value: %s at index %s'%(my_list[index],index))"
   ]
  },
  {
   "cell_type": "markdown",
   "metadata": {},
   "source": [
    "Inside the `for` loops the value of the item was increased by 10. This is done for each iteration, so for each element.<br>\n",
    "The result of the `%timeit` function should make it clear that iterating over a list by using the second version is a lot faster. The first test shows an three-fold decrease of the processing time. And this is only for a list of 11 items. A lot of times lists have as many as a couple of million items and the operations performed on them can be incredibly complex. So using the second version will save a lot of time."
   ]
  },
  {
   "cell_type": "markdown",
   "metadata": {},
   "source": [
    "### break and continue\n",
    "If the aim of a `for` loop is to find a certain item or all instances of a recurring item in a list, two keywords that are part of the Python namespace are helpful to optimize the code.<br>\n",
    "\n",
    "In the case of finding a certain item, if that item is found, it is not necessary to keep iterating. If, for example, a list has 1000 names and it is known that there is only one \"David\" in the list, the loop should stop once the name is found, since it is unnecessary to keep looking. This is where the `break` command comes into play. It stops the `for` loop, as shown in the example below."
   ]
  },
  {
   "cell_type": "code",
   "execution_count": 13,
   "metadata": {},
   "outputs": [
    {
     "name": "stdout",
     "output_type": "stream",
     "text": [
      "Hans\n",
      "David\n",
      "Michael\n",
      "Max\n",
      "Sieglinde\n",
      "Stefanie\n"
     ]
    }
   ],
   "source": [
    "#creating a list of names\n",
    "names = ['Hans', 'David','Michael','Max','Sieglinde','Stefanie','Julia']\n",
    "#iterating over the list\n",
    "for name in names:\n",
    "    print(name)\n",
    "    #stopping the loop if the name specified is found\n",
    "    if name == 'Stefanie':\n",
    "        break"
   ]
  },
  {
   "cell_type": "markdown",
   "metadata": {},
   "source": [
    "The `continue` command on the other hand skips the remainder of the iteration if called. The loop then starts its next iteration."
   ]
  },
  {
   "cell_type": "code",
   "execution_count": null,
   "metadata": {},
   "outputs": [],
   "source": [
    "#creating a list of names\n",
    "names = ['Hans', 'David','Michael','Max','Sieglinde','Stefanie','Julia']\n",
    "#iterating over the list\n",
    "for name in names:\n",
    "    #skipping the loop if the name specified is found\n",
    "    if name == 'Stefanie':\n",
    "        print('Skip here')\n",
    "        continue\n",
    "    print(name)\n",
    "    "
   ]
  },
  {
   "cell_type": "markdown",
   "metadata": {},
   "source": [
    "If it is necessary to also find the index (position in the list) of the item, the `enumerate` function can be used to return that information. <br>\n",
    "The command `enumerate()` encloses the iteration object within its brackets. The index, that is additionally returned is a new first iteration variable."
   ]
  },
  {
   "cell_type": "code",
   "execution_count": null,
   "metadata": {},
   "outputs": [],
   "source": [
    "#variable to save the result after the loop\n",
    "name_index = ''\n",
    "for idx, name in enumerate(names):\n",
    "    if name == 'Max':\n",
    "        name_index = idx \n",
    "        print('Exiting loop at index %d'%(idx))\n",
    "        break\n",
    "        \n",
    "print('Found name at index %d'%(name_index))"
   ]
  },
  {
   "cell_type": "markdown",
   "metadata": {},
   "source": [
    "---\n",
    "## While loops\n",
    "Like `for` loops, `while` loops run a specified code section until the cancellation condition is fulfilled. In `for` loops this is either the specified number of loops or the end of the object that is iterated over.<br>\n",
    "`while` loops either need a **cancellation criterion** that is either <br>\n",
    "- specified before initialising the loop\n",
    "- a boolean value, which makes it an endless loop, as long as it is not stopped via the `break`command or the thread is stopped\n",
    "\n",
    "Examples for the two cancellation criterions are shown below."
   ]
  },
  {
   "cell_type": "code",
   "execution_count": null,
   "metadata": {},
   "outputs": [],
   "source": [
    "#declaring a cancellation criterion\n",
    "i = 0\n",
    "#starting while loop\n",
    "while i < 10:\n",
    "    i = i + 1\n",
    "    print('First Iteration', i)\n",
    "    \n",
    "#endless loop but with added cancellation criterion\n",
    "i = 0\n",
    "while True:\n",
    "    i = i + 1\n",
    "    print('Second Iteration', i)\n",
    "    if i >= 10:\n",
    "        break"
   ]
  },
  {
   "cell_type": "markdown",
   "metadata": {},
   "source": [
    "In this case, `i` could be any kind of data. Be it from a sensor and the cancellation criterion is a certain value, or a name in a list or just a loop counter, like it is done in the previous example."
   ]
  },
  {
   "cell_type": "markdown",
   "metadata": {},
   "source": [
    "---\n",
    "## Evaluating Code\n",
    "Now, let's evaluate if there one of the two ways is faster than the other. For that the **Magic Function** `%timeit` evaluates the time a specific piece of code requires to run. The `%timeit` function can only be used on single lines of code, so the `for` loop has to be written in a single line.<br>\n",
    "More info on **Magic Functions** later :)"
   ]
  },
  {
   "cell_type": "code",
   "execution_count": 16,
   "metadata": {},
   "outputs": [
    {
     "name": "stdout",
     "output_type": "stream",
     "text": [
      "1.01 µs ± 10.4 ns per loop (mean ± std. dev. of 7 runs, 1000000 loops each)\n",
      "381 ns ± 8.27 ns per loop (mean ± std. dev. of 7 runs, 1000000 loops each)\n"
     ]
    }
   ],
   "source": [
    "%timeit for index in range(len(my_list)):my_list[index] = my_list[index] + 10\n",
    "%timeit for element in my_list:element = element + 10"
   ]
  },
  {
   "cell_type": "markdown",
   "metadata": {},
   "source": [
    "---\n",
    "## Tasks\n",
    "1. Create a list object with 20 items.\n",
    "2. Create a `for` loop that iterates over the list object from the second until the second to last item and `print` every item to the console.\n",
    "3. Now let the loop only print every second item."
   ]
  },
  {
   "cell_type": "code",
   "execution_count": null,
   "metadata": {},
   "outputs": [],
   "source": [
    "#create list\n",
    "\n",
    "#create first loop\n",
    "\n",
    "#create second loop"
   ]
  },
  {
   "cell_type": "markdown",
   "metadata": {},
   "source": [
    "Create the same functionalities for a while loop."
   ]
  },
  {
   "cell_type": "code",
   "execution_count": null,
   "metadata": {},
   "outputs": [],
   "source": [
    "#create list\n",
    "\n",
    "#create first loop\n",
    "\n",
    "#create second loop"
   ]
  },
  {
   "cell_type": "markdown",
   "metadata": {},
   "source": [
    "## Solutions\n",
    "### `for` loop"
   ]
  },
  {
   "cell_type": "code",
   "execution_count": null,
   "metadata": {},
   "outputs": [],
   "source": [
    "#create list\n",
    "my_list = [20,19,18,17,16,15,14,13,12,11,10,9,8,7,6,5,4,3,2,1]\n",
    "\n",
    "#first loop\n",
    "#since indexing starts at 0 but len() returns the real length of a list\n",
    "#it mus be reduced by one \"len(my_list)-1\". Otherwise it would be out of bounds\n",
    "for idx in range(1,len(my_list)-1):\n",
    "    print('First loop:', my_list[idx])\n",
    "    \n",
    "#second loop\n",
    "for idx in range(1,len(my_list)-1,2):\n",
    "    print('Second loop:', my_list[idx])"
   ]
  },
  {
   "cell_type": "markdown",
   "metadata": {},
   "source": [
    "---\n",
    "### `while` loop"
   ]
  },
  {
   "cell_type": "code",
   "execution_count": null,
   "metadata": {
    "code_folding": []
   },
   "outputs": [],
   "source": [
    "#create list\n",
    "my_list = [20,19,18,17,16,15,14,13,12,11,10,9,8,7,6,5,4,3,2,1]\n",
    "\n",
    "#first loop\n",
    "counter1 = 1\n",
    "while counter1 < len(my_list)-1:\n",
    "    print('First loop:', my_list[counter1])\n",
    "    counter1 += 1\n",
    "\n",
    "#second loop\n",
    "counter1 = 1\n",
    "while counter1 < len(my_list)-1:\n",
    "    print('Second loop:', my_list[counter1])\n",
    "    counter1 += 2"
   ]
  },
  {
   "cell_type": "markdown",
   "metadata": {},
   "source": [
    "---\n",
    "## Importing libraries\n",
    "One of the reasons for Python's popularity is its developer community. Over the years a lot of libraries have been written by professional and hobby programmers.<br>\n",
    "Some of these libraries were even included into the standard distribution of Python, such as numpy and pandas, two of the most important data analysis libraries.<br>\n",
    "To use these libraries and others that can be downloaded, they need to be imported into your python module.<br>\n",
    "This can be easily done by using the `import`command."
   ]
  },
  {
   "cell_type": "code",
   "execution_count": 18,
   "metadata": {},
   "outputs": [
    {
     "name": "stdout",
     "output_type": "stream",
     "text": [
      "[ 0  1  2  3  4  5  6  7  8  9 10 11 12 13 14 15 16 17 18 19 20 21 22 23\n",
      " 24 25 26 27 28 29 30 31 32 33 34 35 36 37 38 39 40 41 42 43 44 45 46 47\n",
      " 48 49 50 51 52 53 54 55 56 57 58 59 60 61 62 63 64 65 66 67 68 69 70 71\n",
      " 72 73 74 75 76 77 78 79 80 81 82 83 84 85 86 87 88 89 90 91 92 93 94 95\n",
      " 96 97 98 99]\n",
      "[  1   2   3   4   5   6   7   8   9  10  11  12  13  14  15  16  17  18\n",
      "  19  20  21  22  23  24  25  26  27  28  29  30  31  32  33  34  35  36\n",
      "  37  38  39  40  41  42  43  44  45  46  47  48  49  50  51  52  53  54\n",
      "  55  56  57  58  59  60  61  62  63  64  65  66  67  68  69  70  71  72\n",
      "  73  74  75  76  77  78  79  80  81  82  83  84  85  86  87  88  89  90\n",
      "  91  92  93  94  95  96  97  98  99 100]\n"
     ]
    },
    {
     "data": {
      "text/plain": [
       "<matplotlib.collections.PathCollection at 0x1ea777defc8>"
      ]
     },
     "execution_count": 18,
     "metadata": {},
     "output_type": "execute_result"
    },
    {
     "data": {
      "image/png": "[encoded data removed]",
      "text/plain": [
       "<Figure size 432x288 with 1 Axes>"
      ]
     },
     "metadata": {
      "needs_background": "light"
     },
     "output_type": "display_data"
    }
   ],
   "source": [
    "#importing the numpy module\n",
    "import numpy\n",
    "\n",
    "a = numpy.arange(0,100,1)\n",
    "\n",
    "#importing the numpy module and changing its name\n",
    "import numpy as np\n",
    "\n",
    "b = np.arange(1,101,1)\n",
    "\n",
    "print(a)\n",
    "print(b)\n",
    "\n",
    "#importing a class of a library instead of the complete library\n",
    "import matplotlib.pyplot as plt\n",
    "\n",
    "#creating a scatterplot using the two arrays created before\n",
    "plt.scatter(a,b)"
   ]
  },
  {
   "cell_type": "markdown",
   "metadata": {},
   "source": [
    "The `numpy` and `matplotlib` libraries will be explained during a later lecture and are just used as examples here. "
   ]
  }
 ],
 "metadata": {
  "kernelspec": {
   "display_name": "Python 3",
   "language": "python",
   "name": "python3"
  },
  "language_info": {
   "codemirror_mode": {
    "name": "ipython",
    "version": 3
   },
   "file_extension": ".py",
   "mimetype": "text/x-python",
   "name": "python",
   "nbconvert_exporter": "python",
   "pygments_lexer": "ipython3",
   "version": "3.8.5"
  },
  "varInspector": {
   "cols": {
    "lenName": "16",
    "lenType": 16,
    "lenVar": 40
   },
   "kernels_config": {
    "python": {
     "delete_cmd_postfix": "",
     "delete_cmd_prefix": "del ",
     "library": "var_list.py",
     "varRefreshCmd": "print(var_dic_list())"
    },
    "r": {
     "delete_cmd_postfix": ") ",
     "delete_cmd_prefix": "rm(",
     "library": "var_list.r",
     "varRefreshCmd": "cat(var_dic_list()) "
    }
   },
   "position": {
    "height": "299.85px",
    "left": "1216.07px",
    "right": "20px",
    "top": "160px",
    "width": "339.733px"
   },
   "types_to_exclude": [
    "module",
    "function",
    "builtin_function_or_method",
    "instance",
    "_Feature"
   ],
   "window_display": false
  }
 },
 "nbformat": 4,
 "nbformat_minor": 2
}
